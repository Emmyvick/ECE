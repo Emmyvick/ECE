{
 "cells": [
  {
   "cell_type": "code",
   "execution_count": 1,
   "metadata": {},
   "outputs": [
    {
     "name": "stdout",
     "output_type": "stream",
     "text": [
      "select an operation to perform: \n",
      "ADD\n",
      "SUBTRACT\n",
      "MULTIPLY\n",
      "DIVIDE\n",
      "4\n",
      "Enter first number: 20\n",
      "Enter second number: 5\n",
      "The result is 4.0\n"
     ]
    }
   ],
   "source": [
    "# A Simplle calculator\n",
    "\n",
    "print(\"select an operation to perform: \")\n",
    "print(\"ADD\")\n",
    "print(\"SUBTRACT\")\n",
    "print(\"MULTIPLY\")\n",
    "print(\"DIVIDE\")\n",
    "\n",
    "operation = input()\n",
    "\n",
    "\n",
    "if operation ==\"4\":\n",
    "    num1 =input(\"Enter first number: \")\n",
    "    num2 =input(\"Enter second number: \")\n",
    "    print(\"The result is \"  + str(int(num1) / int(num2)))"
   ]
  },
  {
   "cell_type": "code",
   "execution_count": 2,
   "metadata": {},
   "outputs": [
    {
     "name": "stdout",
     "output_type": "stream",
     "text": [
      "select an operation to perform: \n",
      "ADD\n",
      "SUBTRACT\n",
      "MULTIPLY\n",
      "DIVIDE\n",
      "1\n",
      "Enter first number: 34\n",
      "Enter second number: 33\n",
      "The result is 67\n"
     ]
    }
   ],
   "source": [
    "# A Simplle calculator\n",
    "\n",
    "print(\"select an operation to perform: \")\n",
    "print(\"ADD\")\n",
    "print(\"SUBTRACT\")\n",
    "print(\"MULTIPLY\")\n",
    "print(\"DIVIDE\")\n",
    "\n",
    "operation = input()\n",
    "\n",
    "\n",
    "if operation ==\"1\":\n",
    "    num1 =input(\"Enter first number: \")\n",
    "    num2 =input(\"Enter second number: \")\n",
    "    print(\"The result is \"  + str(int(num1) + int(num2)))"
   ]
  },
  {
   "cell_type": "code",
   "execution_count": 3,
   "metadata": {},
   "outputs": [
    {
     "name": "stdout",
     "output_type": "stream",
     "text": [
      "select an operation to perform: \n",
      "ADD\n",
      "SUBTRACT\n",
      "MULTIPLY\n",
      "DIVIDE\n",
      "3\n",
      "Enter first number: 4\n",
      "Enter second number: 6\n",
      "The product is 24\n"
     ]
    }
   ],
   "source": [
    "# A Simplle calculator\n",
    "\n",
    "print(\"select an operation to perform: \")\n",
    "print(\"ADD\")\n",
    "print(\"SUBTRACT\")\n",
    "print(\"MULTIPLY\")\n",
    "print(\"DIVIDE\")\n",
    "\n",
    "operation = input()\n",
    "\n",
    "\n",
    "if operation ==\"3\":\n",
    "    num1 =input(\"Enter first number: \")\n",
    "    num2 =input(\"Enter second number: \")\n",
    "    print(\"The product is \"  + str(int(num1) * int(num2)))"
   ]
  },
  {
   "cell_type": "code",
   "execution_count": 4,
   "metadata": {},
   "outputs": [
    {
     "name": "stdout",
     "output_type": "stream",
     "text": [
      "select an operation to perform: \n",
      "ADD\n",
      "SUBTRACT\n",
      "MULTIPLY\n",
      "DIVIDE\n",
      "2\n",
      "Enter first number: 33\n",
      "Enter second number: 4\n",
      "The result is 29\n"
     ]
    }
   ],
   "source": [
    "# A Simplle calculator\n",
    "\n",
    "print(\"select an operation to perform: \")\n",
    "print(\"ADD\")\n",
    "print(\"SUBTRACT\")\n",
    "print(\"MULTIPLY\")\n",
    "print(\"DIVIDE\")\n",
    "\n",
    "operation = input()\n",
    "\n",
    "\n",
    "if operation ==\"2\":\n",
    "    num1 =input(\"Enter first number: \")\n",
    "    num2 =input(\"Enter second number: \")\n",
    "    print(\"The result is \"  + str(int(num1) - int(num2)))"
   ]
  },
  {
   "cell_type": "code",
   "execution_count": null,
   "metadata": {},
   "outputs": [],
   "source": []
  }
 ],
 "metadata": {
  "kernelspec": {
   "display_name": "Python 3",
   "language": "python",
   "name": "python3"
  },
  "language_info": {
   "codemirror_mode": {
    "name": "ipython",
    "version": 3
   },
   "file_extension": ".py",
   "mimetype": "text/x-python",
   "name": "python",
   "nbconvert_exporter": "python",
   "pygments_lexer": "ipython3",
   "version": "3.7.0"
  }
 },
 "nbformat": 4,
 "nbformat_minor": 2
}
